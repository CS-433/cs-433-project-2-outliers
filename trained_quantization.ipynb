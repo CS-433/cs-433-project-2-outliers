{
 "cells": [
  {
   "cell_type": "markdown",
   "metadata": {},
   "source": [
    "# Trained Quantization & Weight Sharing"
   ]
  },
  {
   "cell_type": "code",
   "execution_count": 1,
   "metadata": {},
   "outputs": [],
   "source": [
    "import numpy as np\n",
    "import scipy.io as sio \n",
    "import torch.nn as nn\n",
    "import torch \n",
    "import matplotlib.pyplot as plt\n",
    "import os\n",
    "import argparse\n",
    "\n",
    "from preprocessing_funcs import get_spikes_with_history, preprocessing, remove_outliers\n",
    "from model import LSTM\n",
    "from trainer import train\n",
    "from quantizer import quantize_network, compute_quantized_weights, quantized_train"
   ]
  },
  {
   "cell_type": "code",
   "execution_count": 2,
   "metadata": {},
   "outputs": [],
   "source": [
    "#set this to the root directory where you want to save and load data and figures\n",
    "root = os.path.join('drive')\n",
    "#set this to the diectory where you want to save data and checkpoints\n",
    "data_path = os.path.join(root, 'data')\n",
    "#set this to the diectory where you want to save checkpoints\n",
    "checkpoint_path = os.path.join(root, 'checkpoints')"
   ]
  },
  {
   "cell_type": "code",
   "execution_count": 27,
   "metadata": {
    "scrolled": true
   },
   "outputs": [
    {
     "name": "stderr",
     "output_type": "stream",
     "text": [
      "Finger 0: 100%|########################################################################| 60/60 [09:33<00:00,  9.56s/it]\n"
     ]
    },
    {
     "name": "stdout",
     "output_type": "stream",
     "text": [
      "Run for subject 10 finger 4\n",
      "Correlation coefficient test : 0.3449362379260117\n"
     ]
    }
   ],
   "source": [
    "for Idx_subject in list([10]): # 3 subjects index 10-12\n",
    "\n",
    "       \n",
    "        for Finger in list([4]): # 5 fingers for each subject. 0:thumb, 1:index, 2:middle ...\n",
    "            \n",
    "            #load training data (TrainX: feature vectors, TrainY: labels)\n",
    "            matData = sio.loadmat(data_path + '/BCImoreData_Subj_'+str(Idx_subject)+'_200msLMP.mat')\n",
    "            TrainX = matData['Data_Feature'].transpose()\n",
    "            TrainY = matData['SmoothedFinger']\n",
    "            TrainY = TrainY [:,Finger]\n",
    "            TrainY = TrainY.reshape(TrainY.shape[0],1)\n",
    "            #load testing data (TestX: feature vectors, TestY: labels)\n",
    "            matData = sio.loadmat(data_path + '/BCImoreData_Subj_'+str(Idx_subject)+'_200msLMPTest.mat')\n",
    "            TestX = matData['Data_Feature'].transpose()\n",
    "            TestY = matData['SmoothedFinger']\n",
    "            TestY = TestY[:,Finger]\n",
    "            TestY = TestY.reshape(TestY.shape[0],1)\n",
    "            \n",
    "            # preprocessing \n",
    "            TrainX = remove_outliers(TrainX)\n",
    "            \n",
    "            x_scaler, y_scaler, TrainX, TestX, TrainY, TestY  = preprocessing(TrainX,TestX,TrainY,TestY)\n",
    "            \n",
    "            \n",
    "            # from here, we reconstruct the input by \"looking back\" a few steps\n",
    "            bins_before= 20 #How many bins of neural data prior to the output are used for decoding\n",
    "            bins_current=1 #Whether to use concurrent time bin of neural data\n",
    "            bins_after=0 #How many bins of neural data after the output are used for decoding\n",
    "            \n",
    "            TrainX=get_spikes_with_history(TrainX,bins_before,bins_after,bins_current)\n",
    "            TrainX, TrainY = TrainX[bins_before:,:,:], TrainY[bins_before:,]\n",
    "         \n",
    "            TestX=get_spikes_with_history(TestX,bins_before,bins_after,bins_current)\n",
    "            TestX, TestY = TestX[bins_before:,:,:], TestY[bins_before:,]\n",
    "            \n",
    "            # Now, we reconstructed TrainX/TestX to have a shape (num_of_samples, sequence_length, input_size)\n",
    "            # We can fit this to the LSTM\n",
    "            \n",
    "            print(\"Run for subject \" + str(Idx_subject) + \" finger \"+str(Finger))\n",
    "\n",
    "            n_hidden = 20\n",
    "            n_layers = 5\n",
    "            input_dim = TrainX.shape[2]\n",
    "            output_dim = TrainY.shape[1]\n",
    "            seq_len =  TrainX.shape[1]\n",
    "\n",
    "            net = LSTM(input_dim, output_dim, seq_len,  n_hidden, n_layers)\n",
    "\n",
    "            lossfunc = nn.MSELoss()\n",
    "\n",
    "            optimizer = torch.optim.Adamax(net.parameters(), lr=0.002)\n",
    "            net.train()\n",
    "\n",
    "\n",
    "            ##training the initial model\n",
    "            PATH_pre_trained = checkpoint_path + '/s'+ str(Idx_subject) + '_f'+str(Finger)+'_trained_model'\n",
    "            \n",
    "            net.load_state_dict(torch.load(PATH_pre_trained))\n",
    "\n",
    "            ##test initial model\n",
    "            net.eval()\n",
    "            pred,h = net(torch.from_numpy(TestX).float(), net.init_hidden(TestX.shape[0]))\n",
    "            pred = pred.detach().numpy()[-1,:,:]\n",
    "            pred = y_scaler.inverse_transform(pred)\n",
    "            TestY = y_scaler.inverse_transform(TestY)\n",
    "            pred = pred.reshape((-1,))\n",
    "            corrcoef = np.corrcoef(pred,TestY.reshape((-1,)))\n",
    "\n",
    "            \n",
    "            print ('Correlation coefficient test : {corrcoef}'.format(corrcoef=corrcoef[0,1]))   \n",
    "\n",
    " "
   ]
  },
  {
   "cell_type": "markdown",
   "metadata": {},
   "source": [
    "## Quantited Model Before Training"
   ]
  },
  {
   "cell_type": "code",
   "execution_count": 64,
   "metadata": {},
   "outputs": [
    {
     "name": "stdout",
     "output_type": "stream",
     "text": [
      "Correlation coefficient test : 0.338057174990737\n"
     ]
    }
   ],
   "source": [
    "#initialize the quantiezed weights using the weights from the trained netwrok:\n",
    "k=8\n",
    "net = compute_quantized_weights(net,k)\n",
    "#set the model's parameters to their quantized version\n",
    "net = quantize_network(net)\n",
    "net.eval()\n",
    "quant_pred,h = net(torch.from_numpy(TestX).float(), net.init_hidden(TestX.shape[0]), quant=True)\n",
    "quant_pred = quant_pred.detach().numpy()[-1,:,:]\n",
    "quant_pred = y_scaler.inverse_transform(quant_pred)\n",
    "TestY = y_scaler.inverse_transform(TestY)\n",
    "quant_pred = quant_pred.reshape((-1,))\n",
    "quant_corrcoef = np.corrcoef(quant_pred,TestY.reshape((-1,)))\n",
    "\n",
    "print ('Correlation coefficient test : {corrcoef}'.format(corrcoef=quant_corrcoef[0,1]))  "
   ]
  },
  {
   "cell_type": "markdown",
   "metadata": {},
   "source": [
    "## Quantited Model After Training"
   ]
  },
  {
   "cell_type": "code",
   "execution_count": 28,
   "metadata": {},
   "outputs": [
    {
     "name": "stderr",
     "output_type": "stream",
     "text": [
      "\r",
      "Finger 0:   0%|                                                                                 | 0/30 [00:00<?, ?it/s]"
     ]
    },
    {
     "name": "stdout",
     "output_type": "stream",
     "text": [
      "Tuning Centroids...\n"
     ]
    },
    {
     "name": "stderr",
     "output_type": "stream",
     "text": [
      "Finger 0: 100%|########################################################################| 30/30 [03:59<00:00,  7.54s/it]"
     ]
    },
    {
     "name": "stdout",
     "output_type": "stream",
     "text": [
      "Correlation coefficient test : 0.36211613091441164\n"
     ]
    }
   ],
   "source": [
    "#re-loas the weights:\n",
    "net.load_state_dict(torch.load(PATH_pre_trained))\n",
    "k=8\n",
    "#initialize the quantiezed weights using the weights from the trained netwrok:\n",
    "net = compute_quantized_weights(net,k)\n",
    "net.train()\n",
    "\n",
    "#train the quantized netwok\n",
    "quantized_corr_train, quantized_corr_val, quantized_corr_test = quantized_train(TrainX, TrainY,TestX,TestY, net, lossfunc, optimizer, num_epoch = 30, clip = 5)\n",
    "#set the model's parameters to their quantized version\n",
    "net = quantize_network(net)\n",
    "\n",
    "\n",
    "net.eval()\n",
    "quant_pred,h = net(torch.from_numpy(TestX).float(), net.init_hidden(TestX.shape[0]), quant=True)\n",
    "quant_pred = quant_pred.detach().numpy()[-1,:,:]\n",
    "quant_pred = y_scaler.inverse_transform(quant_pred)\n",
    "TestY = y_scaler.inverse_transform(TestY)\n",
    "quant_pred = quant_pred.reshape((-1,))\n",
    "quant_corrcoef = np.corrcoef(quant_pred,TestY.reshape((-1,)))\n",
    "\n",
    "\n",
    "print ('Correlation coefficient test : {corrcoef}'.format(corrcoef=quant_corrcoef[0,1])) "
   ]
  },
  {
   "cell_type": "markdown",
   "metadata": {},
   "source": [
    "## Cluster Distibution"
   ]
  },
  {
   "cell_type": "code",
   "execution_count": 65,
   "metadata": {},
   "outputs": [
    {
     "data": {
      "image/png": "[encoded data removed]",
      "text/plain": [
       "<Figure size 432x288 with 1 Axes>"
      ]
     },
     "metadata": {
      "needs_background": "light"
     },
     "output_type": "display_data"
    }
   ],
   "source": [
    "# matplotlib histogram\n",
    "indices = net.quantized_state_dict['lstm.weight_ih_l4'][0].numpy()\n",
    "plt.hist(indices, color = 'blue', edgecolor = 'black',\n",
    "        bins = int(180/5))\n",
    "\n",
    "plt.title('Subject_'+str(Idx_subject) + '_Finger_' + str(Finger))\n",
    "plt.xlabel('Cluster Index')\n",
    "plt.ylabel('Count')\n",
    "\n",
    "plt.savefig('Subject_'+str(Idx_subject) + 'Finger_' + str(Finger))"
   ]
  },
  {
   "cell_type": "code",
   "execution_count": null,
   "metadata": {},
   "outputs": [],
   "source": []
  }
 ],
 "metadata": {
  "kernelspec": {
   "display_name": "Python 3",
   "language": "python",
   "name": "python3"
  },
  "language_info": {
   "codemirror_mode": {
    "name": "ipython",
    "version": 3
   },
   "file_extension": ".py",
   "mimetype": "text/x-python",
   "name": "python",
   "nbconvert_exporter": "python",
   "pygments_lexer": "ipython3",
   "version": "3.7.7"
  }
 },
 "nbformat": 4,
 "nbformat_minor": 2
}
